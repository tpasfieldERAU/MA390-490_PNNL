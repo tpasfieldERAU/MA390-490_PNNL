{
 "cells": [
  {
   "cell_type": "code",
   "execution_count": null,
   "metadata": {},
   "outputs": [],
   "source": [
    "import numpy as np\n",
    "import itk\n",
    "import itkwidgets\n",
    "import matplotlib.pyplot as plt\n",
    "import cv2 as cv\n",
    "from scipy import optimize"
   ]
  },
  {
   "cell_type": "code",
   "execution_count": null,
   "metadata": {},
   "outputs": [],
   "source": [
    "img = np.load('./NORMALIZED-RP-STACK.npy')"
   ]
  },
  {
   "cell_type": "code",
   "execution_count": null,
   "metadata": {},
   "outputs": [],
   "source": [
    "testing = img[:,:,700]\n",
    "# ret, mat = cv.threshold(testing, 4, 255, cv.THRESH_BINARY)\n",
    "mat = cv.Canny(testing, 45, 45)\n",
    "\n",
    "plt.imshow(mat)\n",
    "plt.show()"
   ]
  },
  {
   "cell_type": "code",
   "execution_count": null,
   "metadata": {},
   "outputs": [],
   "source": [
    "def cost(params):\n",
    "    x,y,r = np.int64(params)\n",
    "    mask = np.zeros([1085, 1085], dtype=np.uint8)\n",
    "    mask = cv.circle(mask, [x,y], r, [1,1,1])\n",
    "    return np.sum(mat+mask)\n",
    "\n",
    "x0,y0,r0 = optimize.fmin(cost, (543, 543, 493))\n",
    "\n",
    "print(x0)\n",
    "print(y0)\n",
    "print(r0)\n",
    "\n",
    "print(np.int32(x0))"
   ]
  },
  {
   "cell_type": "code",
   "execution_count": null,
   "metadata": {},
   "outputs": [],
   "source": [
    "mask = np.zeros([1085,1085,3], dtype=np.uint8)\n",
    "mask = cv.circle(mask, [np.uint32(x0), np.uint32(y0)], np.uint32(r0), [1,0,0])\n",
    "\n",
    "plh = np.zeros([1085,1085,3])\n",
    "plh[:,:,0] = mat\n",
    "plh[:,:,1] = mat\n",
    "plh[:,:,2] = mat\n",
    "\n",
    "plt.imshow(plh+mask)\n",
    "plt.show()"
   ]
  },
  {
   "cell_type": "code",
   "execution_count": null,
   "metadata": {},
   "outputs": [],
   "source": [
    "radii = []\n",
    "for i in range(1789):\n",
    "    testing = img[:,:,i]\n",
    "    mat = cv.Canny(testing, 45, 45)\n",
    "\n",
    "    def cost(params):\n",
    "        x,y,r = np.int64(params)\n",
    "        if r < 1:\n",
    "            return 1e13 \n",
    "        mask = np.zeros([1085, 1085], dtype=np.uint8)\n",
    "        mask = cv.circle(mask, [x,y], r, [1,1,1])\n",
    "        return np.sum(mat+mask)\n",
    "    \n",
    "    x0,y0,r0 = optimize.fmin(cost, (543, 543, 493))\n",
    "    radii.append(np.int64(r0))"
   ]
  },
  {
   "cell_type": "code",
   "execution_count": null,
   "metadata": {},
   "outputs": [],
   "source": [
    "plt.plot(range(1789), radii)\n",
    "plt.show()\n",
    "\n",
    "dias = 2.*np.asarray(radii)*20.4382 / 1000\n",
    "plt.plot(range(1789), dias)\n",
    "plt.ylabel(\"Object Diameter (mm)\")\n",
    "plt.xlabel(\"Z-Axis Voxel Depth\")\n",
    "plt.title(\"Diameter Variation Through Scanned Object\")\n",
    "plt.show()"
   ]
  }
 ],
 "metadata": {
  "kernelspec": {
   "display_name": "MA390-390_PNNL",
   "language": "python",
   "name": "python3"
  },
  "language_info": {
   "name": "python",
   "version": "3.11.7"
  }
 },
 "nbformat": 4,
 "nbformat_minor": 2
}
